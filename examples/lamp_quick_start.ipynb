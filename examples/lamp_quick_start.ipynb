{
 "cells": [
  {
   "cell_type": "markdown",
   "id": "f46a29cc",
   "metadata": {},
   "source": [
    "# Quick Start\n",
    "\n",
    "In this vignette we will demonstrate how to use `LAMP` python package. The\n",
    "input data and reference files are located in\n",
    "https://github.com/wanchanglin/lamp/tree/master/examples/data."
   ]
  },
  {
   "cell_type": "markdown",
   "id": "35a5cd63",
   "metadata": {},
   "source": [
    "## Setup\n",
    "\n",
    "To use `LAMP`, the first step is to import some python libraries including\n",
    "`LAMP`."
   ]
  },
  {
   "cell_type": "code",
   "execution_count": null,
   "id": "0e95926d",
   "metadata": {},
   "outputs": [],
   "source": [
    "import sqlite3\n",
    "import pandas as pd\n",
    "from lamp import anno, stats, utils"
   ]
  },
  {
   "cell_type": "markdown",
   "id": "09ea0631",
   "metadata": {},
   "source": [
    "## Data Loading\n",
    "\n",
    "`LAMP` supports text files separated by comma (`,`) or tab (`\\t`).  The\n",
    "Microsoft's XLSX is also supported, using argument `sheet_name` to\n",
    "indicate which sheet is used for input data. The default is 0 for the\n",
    "first sheet.\n",
    "\n",
    "Here we use a small example data set with `tsv` format. Load it into\n",
    "python and check its format:\n"
   ]
  },
  {
   "cell_type": "code",
   "execution_count": null,
   "id": "e5788ad4",
   "metadata": {},
   "outputs": [],
   "source": [
    "d_data = \"./data/df_pos_2.tsv\"\n",
    "data = pd.read_table(d_data, header=0, sep=\"\\t\")\n",
    "data"
   ]
  },
  {
   "cell_type": "markdown",
   "id": "94f63b45",
   "metadata": {},
   "source": [
    "This data set includes peak list and intensity data matrix. `LAMP`\n",
    "requires peak list's name, m/z value and retention time. User needs to\n",
    "indicate the locations of feature name, m/z value, retention time and\n",
    "starting points of data matrix from data. Here they are 1, 3, 6 and 11,\n",
    "respectively.\n",
    "\n",
    "Load input data with `xlsx` format for `LAMP`:"
   ]
  },
  {
   "cell_type": "code",
   "execution_count": null,
   "id": "9b8f5d57",
   "metadata": {},
   "outputs": [],
   "source": [
    "cols = [1, 3, 6, 11]\n",
    "# d_data = \"./data/df_pos_2.tsv\"\n",
    "# df = anno.read_peak(d_data, cols, sep='\\t')\n",
    "d_data = \"./data/df_pos_2.xlsx\"                      # use xlsx file\n",
    "df = anno.read_peak(d_data, cols, sheet_name=0)\n",
    "df"
   ]
  },
  {
   "cell_type": "markdown",
   "id": "c6c7df1f",
   "metadata": {},
   "source": [
    "The argument `sep` will be ignored if the input data is an `xlsx` file.\n",
    "Data frame `df` now includes only `name`, `mz`, `rt` and intensity data\n",
    "matrix.\n",
    "\n",
    "## Metabolite Annotation\n",
    "\n",
    "To perform metabolite annotation, users should provide their own\n",
    "reference file. Otherwise, `LAMP` will use its default reference file for\n",
    "annotation. Here we load the default reference file for compound\n",
    "annotation. Since the input data is positive mode here, we only\n",
    "use positive part of reference file. If `ion_mode` is empty, all reference\n",
    "items will be used for matching."
   ]
  },
  {
   "cell_type": "code",
   "execution_count": null,
   "id": "9ea322fd",
   "metadata": {},
   "outputs": [],
   "source": [
    "ion_mode = \"pos\"\n",
    "ref_path = \"\"  # if empty, use default reference file for matching\n",
    "# load reference library\n",
    "cal_mass = False\n",
    "ref = anno.read_ref(ref_path, ion_mode=ion_mode, calc=cal_mass)\n",
    "ref"
   ]
  },
  {
   "cell_type": "markdown",
   "id": "f3c9c16a",
   "metadata": {},
   "source": [
    "The reference file must have one column: `molecular_formula` (or\n",
    "`formula`) if there is no column called `ion m/z` (or, `m/z`,\n",
    "`exact_mass`). The `exact_mass` is optional. if absent, `LAMP` will use\n",
    "`molecular_formula` to calculate 'exact_mass' based on the NIST Atomic\n",
    "Weights and Isotopic Compositions for All Elements. If your reference file\n",
    "has `exact_mass` and you still want to calculate it using NIST database,\n",
    "set `calc` as True.  The `exact_mass` is used to match against a range of\n",
    "`mz`, controlled by `ppm`, in data frame `df`.\n",
    "\n",
    "As the same as input data, the reference file can be `xlsx` file. Another\n",
    "reference file is HMDB database for urine:"
   ]
  },
  {
   "cell_type": "code",
   "execution_count": null,
   "id": "810c3a5d",
   "metadata": {},
   "outputs": [],
   "source": [
    "ref_path = \"./data/hmdb_urine_v4_0_20200910_v1.tsv\"\n",
    "ref = anno.read_ref(ref_path, calc=True)\n",
    "ref"
   ]
  },
  {
   "cell_type": "markdown",
   "id": "2e2a666f",
   "metadata": {},
   "source": [
    "Next we use HMDB reference file for compounds match. Here function argument\n",
    "`ppm` is used to control the m/z matching tolerance(range)."
   ]
  },
  {
   "cell_type": "code",
   "execution_count": null,
   "id": "f5df20ee",
   "metadata": {},
   "outputs": [],
   "source": [
    "ppm = 5.0\n",
    "match = anno.comp_match_mass(df, ppm, ref)\n",
    "match"
   ]
  },
  {
   "cell_type": "markdown",
   "id": "e8165866",
   "metadata": {},
   "source": [
    "`match` gives the compound matching results. `LAMP` also provides a mass\n",
    "adjust option by adduct library. You can provide your own adducts library\n",
    "otherwise `LAMP` uses its default adducts library.\n",
    "\n",
    "The adducts library's format looks like:"
   ]
  },
  {
   "cell_type": "code",
   "execution_count": null,
   "id": "65915d73",
   "metadata": {},
   "outputs": [],
   "source": [
    "add_path = './data/adducts_short.tsv'\n",
    "lib_df = pd.read_csv(add_path, sep=\"\\t\")\n",
    "lib_df"
   ]
  },
  {
   "cell_type": "markdown",
   "id": "61a69dbe",
   "metadata": {},
   "source": [
    "The adducts library must have columns of `label`, `exact_mass`, `charge`\n",
    "and `ion_mode`.\n",
    "\n",
    "We use this adducts file to adjust mass:"
   ]
  },
  {
   "cell_type": "code",
   "execution_count": null,
   "id": "4618cd90",
   "metadata": {},
   "outputs": [],
   "source": [
    "# if empty, use default adducts library\n",
    "add_path = \"./data/adducts_short.tsv\"\n",
    "lib_add = anno.read_lib(add_path, ion_mode)\n",
    "lib_add"
   ]
  },
  {
   "cell_type": "markdown",
   "id": "b8157cd9",
   "metadata": {},
   "source": [
    "Now use function `comp_match_mass_add` to match compounds:"
   ]
  },
  {
   "cell_type": "code",
   "execution_count": null,
   "id": "59fe8f04",
   "metadata": {},
   "outputs": [],
   "source": [
    "match_1 = anno.comp_match_mass_add(df, ppm, ref, lib_add)\n",
    "match_1"
   ]
  },
  {
   "cell_type": "markdown",
   "id": "00d07499",
   "metadata": {},
   "source": [
    "Note that this adducts library is also used to adjust mass calculation in\n",
    "loading reference file if there is a column called `ion_type`.\n",
    "\n",
    "## Correlation Analysis\n",
    "\n",
    "Next step is correlation analysis, based on intensity data matrix along all\n",
    "peaks. All results are filtered by the correlation coefficient, p-values\n",
    "and retention time difference. That is: keep correlation results in an\n",
    "retention time differences/window (such as 1 second) with correlation\n",
    "coefficient larger than a threshold (such as 0.5) and their correlation\n",
    "p-values less than a threshold (such as 0.05).\n",
    "\n",
    "`LAMP` supports two correlation methods, `pearson` and `spearman`. Also\n",
    "parameter `positive` allows user to select only positive correlation\n",
    "results, otherwise positive and negative correlations will be used.\n",
    "\n",
    "Two functions, `_tic` and `_toc`, record the correlation computation time in\n",
    "seconds."
   ]
  },
  {
   "cell_type": "code",
   "execution_count": null,
   "id": "693165ab",
   "metadata": {},
   "outputs": [],
   "source": [
    "thres_rt = 1.0\n",
    "thres_corr = 0.5\n",
    "thres_pval = 0.05\n",
    "method = \"spearman\"  # \"pearson\"\n",
    "positive = True"
   ]
  },
  {
   "cell_type": "code",
   "execution_count": null,
   "id": "b1431924",
   "metadata": {},
   "outputs": [],
   "source": [
    "utils._tic()\n",
    "corr = stats.comp_corr_rt(df, thres_rt, thres_corr, thres_pval, method,\n",
    "                          positive)\n",
    "utils._toc()\n",
    "corr"
   ]
  },
  {
   "cell_type": "markdown",
   "id": "e4675797",
   "metadata": {},
   "source": [
    "`corr` gives results of correlation coefficient(`r_value`), correlation\n",
    "p-values(`p_value`) and retention time difference(`rt_diff`).\n",
    "\n",
    "Based on the correlation analysis, we can extract the groups and their\n",
    "sizes by:"
   ]
  },
  {
   "cell_type": "code",
   "execution_count": null,
   "id": "941c47f6",
   "metadata": {},
   "outputs": [],
   "source": [
    "# get correlation group and size\n",
    "corr_df = stats.corr_grp_size(corr)\n",
    "corr_df"
   ]
  },
  {
   "cell_type": "markdown",
   "id": "f5ff3143",
   "metadata": {},
   "source": [
    "## Summarize Results\n",
    "\n",
    "The final step gets the summary table in different format and save for the\n",
    "further analysis."
   ]
  },
  {
   "cell_type": "code",
   "execution_count": null,
   "id": "7328b8af",
   "metadata": {},
   "outputs": [],
   "source": [
    "# get summary of metabolite annotation\n",
    "sr, mr = anno.comp_summ(df, match)"
   ]
  },
  {
   "cell_type": "markdown",
   "id": "5473bc05",
   "metadata": {},
   "source": [
    "This function combines peak table with compound matching results and\n",
    "returns two results in different formats. `sr` is single row results for\n",
    "each peak id in peak table `df`:"
   ]
  },
  {
   "cell_type": "code",
   "execution_count": null,
   "id": "c4ec8ec8",
   "metadata": {},
   "outputs": [],
   "source": [
    "sr"
   ]
  },
  {
   "cell_type": "markdown",
   "id": "67fbd9ee",
   "metadata": {},
   "source": [
    "`mr` is multiple rows format if the match more than once from the reference\n",
    "file:"
   ]
  },
  {
   "cell_type": "code",
   "execution_count": null,
   "id": "a6e8f2aa",
   "metadata": {},
   "outputs": [],
   "source": [
    "mr"
   ]
  },
  {
   "cell_type": "markdown",
   "id": "236bc49a",
   "metadata": {},
   "source": [
    "\n",
    "Now we merges single format results with correlation results:\n"
   ]
  },
  {
   "cell_type": "code",
   "execution_count": null,
   "id": "51f1cef3",
   "metadata": {},
   "outputs": [],
   "source": [
    "# merge summery table with correlation analysis\n",
    "res = anno.comp_summ_corr(sr, corr_df)\n",
    "res"
   ]
  },
  {
   "cell_type": "markdown",
   "id": "39fa7829",
   "metadata": {},
   "source": [
    "The result data frame `res` is re-arranged as four parts from top to bottom:\n",
    "\n",
    " - 1st part: identified metabolites, satisfied with correlation analysis\n",
    " - 2nd part: identified metabolites, not satisfied with correlation\n",
    " - 3rd part: no identified metabolites, satisfied with correlation\n",
    " - 4th part: no identified metabolites, not satisfied with correlation\n",
    "\n",
    "The users should focus on the first part and perform their further analysis."
   ]
  },
  {
   "cell_type": "markdown",
   "id": "f8ebf811",
   "metadata": {},
   "source": [
    "You can save all results in different forms, such as text format TSV or CSV.\n",
    "You can also save all results into a `sqlite3` database and use\n",
    "[DB Browser for SQLite](https://sqlitebrowser.org/) to view:"
   ]
  },
  {
   "cell_type": "code",
   "execution_count": null,
   "id": "f850a382",
   "metadata": {},
   "outputs": [],
   "source": [
    "f_save = False          # here we do NOT save results\n",
    "db_out = \"test.db\"\n",
    "sr_out = \"test_s.tsv\""
   ]
  },
  {
   "cell_type": "code",
   "execution_count": null,
   "id": "1d5da41a",
   "metadata": {},
   "outputs": [],
   "source": [
    "if f_save:\n",
    "    # save all results into a sqlite3 database\n",
    "    conn = sqlite3.connect(db_out)\n",
    "    df[[\"name\", \"mz\", \"rt\"]].to_sql(\"peaklist\",\n",
    "                                    conn,\n",
    "                                    if_exists=\"replace\",\n",
    "                                    index=False)\n",
    "    corr_df.to_sql(\"corr_grp\", conn, if_exists=\"replace\", index=False)\n",
    "    corr.to_sql(\"corr_pval_rt\", conn, if_exists=\"replace\", index=False)\n",
    "    match.to_sql(\"match\", conn, if_exists=\"replace\", index=False)\n",
    "    mr.to_sql(\"anno_mr\", conn, if_exists=\"replace\", index=False)\n",
    "    res.to_sql(\"anno_sr\", conn, if_exists=\"replace\", index=False)\n",
    "\n",
    "    conn.commit()\n",
    "    conn.close()\n",
    "\n",
    "    # save final results\n",
    "    res.to_csv(sr_out, sep=\"\\t\", index=False)"
   ]
  },
  {
   "cell_type": "markdown",
   "id": "8c550a0e",
   "metadata": {},
   "source": [
    "## End User Usages\n",
    "\n",
    "For end users, `LAMP` provides two computation options: command line\n",
    "interface(CLI) and graphical user interface (GUI).\n",
    "\n",
    "To use GUI,  you need to open a terminal and type in:\n",
    "\n",
    "```bash\n",
    "$ lamp gui\n",
    "```\n",
    "\n",
    "To use CLI, open a terminal and type in command with required arguments,\n",
    "something like:\n",
    "\n",
    "```bash\n",
    "$ lamp cli \\\n",
    "  --input-data \"./data/df_pos_3.tsv\" \\\n",
    "  --sep \"tab\" \\\n",
    "  --col-idx \"1, 2, 3, 4\" \\\n",
    "  --add-path \"\" \\\n",
    "  --ref-path \"\" \\\n",
    "  --ion-mode \"pos\" \\\n",
    "  --cal-mass \\\n",
    "  --thres-rt \"1.0\" \\\n",
    "  --thres-corr \"0.5\" \\\n",
    "  --thres-pval \"0.05\" \\\n",
    "  --method \"pearson\" \\\n",
    "  --positive \\\n",
    "  --ppm \"5.0\" \\\n",
    "  --save-db \\\n",
    "  --save-mr \\\n",
    "  --db-out \"./res/test.db\" \\\n",
    "  --sr-out \"./res/test_s.tsv\" \\\n",
    "  --mr-out \"./res/test_m.tsv\"\n",
    "```\n",
    "\n",
    "For the best practice, you can create a bash script `.sh` (Linux\n",
    "and MacOS) or Windows script `.bat` to contain these CLI\n",
    "arguments. Change parameters in these files each time when processing new\n",
    "data set.\n",
    "\n",
    "For example, there are `lamp_cli.sh` and `lamp_cli.bat` in\n",
    "https://github.com/wanchanglin/lamp/tree/master/examples. You can run them\n",
    "and check the results in directory `examples/res`:\n",
    "\n",
    "- For Linux and MacOS terminal:\n",
    "\n",
    "  ```bash\n",
    "  $ chmod +x lamp_cli.sh\n",
    "  $ ./lamp_cli.sh\n",
    "  ```\n",
    "\n",
    "- For Windows terminal:\n",
    "\n",
    "  ```bash\n",
    "  $ lamp_cli.bat\n",
    "  ```\n",
    "\n",
    "Note that if users use `xlsx` files for input data and reference file\n",
    "when using GUI or CLI, all data must be in the first sheet. If you use\n",
    "`LAMP` functions in your python scripts, there are no such requirementss."
   ]
  }
 ],
 "metadata": {
  "jupytext": {
   "cell_metadata_filter": "-all",
   "main_language": "python",
   "notebook_metadata_filter": "-all"
  }
 },
 "nbformat": 4,
 "nbformat_minor": 5
}
